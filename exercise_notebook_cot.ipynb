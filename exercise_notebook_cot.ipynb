{
 "cells": [
  {
   "metadata": {
    "ExecuteTime": {
     "end_time": "2025-04-22T16:35:48.323692Z",
     "start_time": "2025-04-22T16:35:46.865584Z"
    }
   },
   "cell_type": "code",
   "source": [
    "import os\n",
    "from typing import Optional\n",
    "\n",
    "from dotenv import load_dotenv\n",
    "from langchain_core.output_parsers import StrOutputParser, PydanticOutputParser, JsonOutputParser\n",
    "from langchain_openai import ChatOpenAI\n",
    "from pydantic import SecretStr, field_validator\n",
    "\n",
    "from generate_prompts import get_prompt"
   ],
   "id": "dc99f02c3db525c3",
   "outputs": [
    {
     "name": "stdout",
     "output_type": "stream",
     "text": [
      "I'm trying to decide what workout to do tomorrow. today (Tuesday) I did bootcamp. yesterday (Monday) I did cycling. the day before (Sunday) I did megaformer pilates. my preferences: i prefer to be done with my workout and shower by 9:30am on weekdays, I don't want to wake up too early, i like to vary my exercises day to day, intense cardio (running & cycling) are better for my ADHD and anxiety symptoms, I prefer fitness classes over solo activities like running or swimming laps because i tend to procrastinate starting the latter. options: Yoga @ Sui Yoga · Soho SoHo at 8:00 AM 40 min away, Yoga @ Brooklyn Yoga Project Carroll Gardens at 7:30 AM 40 min away, Cycling @ SoulCycle · Williamsburg at 7:00 AM 50 min away, Yoga @ ID Hot Yoga - Lower East Side Lower East Side at 8:30 AM 40 min away, Gym Time @ Retro Fitness · One New York Plaza Financial District at 8:00 AM 30 min away, Gym Time @ Crunch Gym · Union Square Union Square at 7:00 AM 35 min away, lift weights @ home at ~8am 0m away, peloton spin workout @ home at ~8am 0m away, Gym Time @ RS Strength at 7:00 AM 40 min away, Barre @ The Bar Method · Brooklyn - Williamsburg Williamsburg at 8:00 AM 50 min away, Yoga @ VERAYOGA · Williamsburg at 7:00 AM 50 min away, Gym Time @ Crunch Gym · FiDi Financial District at 8:00 AM 30 min away, Cycling @ CycleBar · NoHo NoHo at 8:15 AM 40 min away, Barre @ The Bar Method · Brooklyn - Williamsburg Williamsburg at 7:00 AM 50 min away, Cycling @ SoulCycle · Financial District at 7:00 AM 30 min away, Yoga @ Bouldering Project at 7:45 AM 30 min away, Gym Time @ Retro Fitness · One New York Plaza Financial District at 7:00 AM 30 min away, Yoga @ Sui Yoga · Soho SoHo at 7:00 AM 40 min away, Cycling @ CycleBar · NoHo NoHo at 7:00 AM 40 min away, Running @ Barry's · Brooklyn Heights Strength Training, at 8:30 AM 22 min away, Yoga @ Y7 Studio · Park Slope Manhattan at 8:15 AM 20 min away, run @ home at ~8am 0m away, Gym Time @ RS Strength at 8:30 AM 40 min away, Running @ Mile High Run Club · Noho NoHo at 7:30 AM 40 min away, Running @ Mile High Run Club · Noho NoHo at 8:30 AM 40 min away, Yoga @ VERAYOGA (Tribeca) Tribeca at 7:50 AM 35 min away, Yoga @ ID Hot Yoga - Lower East Side Lower East Side at 7:00 AM 40 min away, swim laps @ YMCA at ~8am 20m away, Cycling @ SoulCycle · Williamsburg at 8:00 AM 50 min away, Cycling @ SoulCycle · Brooklyn Heights at 7:30 AM 20 min away, Cycling @ SoulCycle · Brooklyn Heights at 8:30 AM 20 min away\n"
     ]
    }
   ],
   "execution_count": 1
  },
  {
   "metadata": {},
   "cell_type": "markdown",
   "source": "LOAD MODEL",
   "id": "445351451bb201cd"
  },
  {
   "metadata": {
    "ExecuteTime": {
     "end_time": "2025-04-22T16:35:48.618904Z",
     "start_time": "2025-04-22T16:35:48.394839Z"
    }
   },
   "cell_type": "code",
   "source": [
    "\n",
    "\n",
    "from langchain_ollama import OllamaLLM\n",
    "\n",
    "load_dotenv()\n",
    "#model names\n",
    "FREE_REKA_FLASH = \"rekaai/reka-flash-3:free\"\n",
    "FREE_MOONSHOT = \"moonshotai/kimi-vl-a3b-thinking:free\"\n",
    "FREE_MAVERICK = \"meta-llama/llama-3.3-70b-instruct:free\"\n",
    "\n",
    "\n",
    "class ChatOpenRouter(ChatOpenAI):\n",
    "    openai_api_base: str\n",
    "    model_name: str\n",
    "\n",
    "    def __init__(self,\n",
    "                 model_name: str,\n",
    "                 openai_api_key: Optional[str] = None,\n",
    "                 openai_api_base: str = \"https://openrouter.ai/api/v1\",\n",
    "                 **kwargs):\n",
    "        openai_api_key = openai_api_key or SecretStr(os.getenv('OPENROUTER_API_KEY'))\n",
    "\n",
    "        super().__init__(openai_api_base=openai_api_base, openai_api_key=openai_api_key, model_name=model_name,\n",
    "                         **kwargs)\n",
    "\n",
    "\n",
    "# llm = ChatOpenRouter(\n",
    "#     model_name=FREE_REKA_FLASH, temperature=0.3\n",
    "# )\n",
    "llm = OllamaLLM(model=\"llama3.2\", temperature=0.3)"
   ],
   "id": "908c3a54a58c6f9e",
   "outputs": [],
   "execution_count": 2
  },
  {
   "metadata": {
    "ExecuteTime": {
     "end_time": "2025-04-22T16:35:48.772543Z",
     "start_time": "2025-04-22T16:35:48.764052Z"
    }
   },
   "cell_type": "code",
   "source": [
    "from pydantic import BaseModel, field_validator, TypeAdapter\n",
    "from typing import List, Dict\n",
    "import re\n",
    "\n",
    "valid_workout_list = [\"cycling\", \"dance\", \"running\"]\n",
    "\n",
    "class WorkoutEntry(BaseModel):\n",
    "    workout: str\n",
    "    location: str\n",
    "    time: str\n",
    "    \n",
    "    @field_validator('workout')\n",
    "    def workout_must_be_valid(cls, v):\n",
    "        if v.lower() not in valid_workout_list:\n",
    "            raise ValueError(f\"Workout must be one of: {', '.join(valid_workout_list)}\")\n",
    "        return v.lower()\n",
    "    \n",
    "    @field_validator('time')\n",
    "    def time_must_be_valid_format(cls, v):\n",
    "        if not re.match(r'^(1[0-2]|0?[1-9]):[0-5][0-9] (AM|PM)$', v):\n",
    "            raise ValueError('Time must be in format like \"8:30 AM\" or \"12:45 PM\"')\n",
    "        return v\n",
    "workout_list_model = TypeAdapter(List[WorkoutEntry])"
   ],
   "id": "7f5293951a956ef6",
   "outputs": [],
   "execution_count": 3
  },
  {
   "metadata": {},
   "cell_type": "markdown",
   "source": "INVOKE",
   "id": "a6d252437cb2dcf"
  },
  {
   "metadata": {
    "ExecuteTime": {
     "end_time": "2025-04-22T16:36:47.494397Z",
     "start_time": "2025-04-22T16:35:48.791690Z"
    }
   },
   "cell_type": "code",
   "source": [
    "from generate_prompts import SLEEP, choice_descs, prev_workouts, VARIETY, EFFICIENT, FOCUS, STRUCTURE\n",
    "from langchain_core.prompts import PromptTemplate\n",
    "from langchain_core.runnables import RunnablePassthrough\n",
    "\n",
    "# Step 0: Filter by sleep preference\n",
    "sleep_preference_prompt = PromptTemplate.from_template(\n",
    "    \"\"\"Step 0: Consider these workout options:\n",
    "```\"\"\" + choice_descs + \"\"\"\"```\n",
    "    \n",
    "List all options that are appropriate given the sleep preference: {SLEEP}\"\"\"\n",
    ")\n",
    "\n",
    "# Step 1: Filter by variety preference\n",
    "variety_prompt = PromptTemplate.from_template(\n",
    "    \"\"\"Step 1: Given these options:\n",
    "{sleep_preference_result}\n",
    "    \n",
    "And previous workouts:\n",
    "\"\"\" + prev_workouts + \"\"\"\n",
    "    \n",
    "succinctly list the subset of these options fits the variety preference: \"\"\" + VARIETY\n",
    ")\n",
    "\n",
    "# Step 2: Select top 1-3 options based on remaining preferences\n",
    "top3_prompt = PromptTemplate.from_template(\n",
    "    \"\"\"Step 2: Given these options:\n",
    "{variety_result}\n",
    "    \n",
    "List the top 1-3 options that best reflect these preferences:\n",
    "- Efficiency: \"\"\" + EFFICIENT + \"\"\"\n",
    "- ADHD consideration: \"\"\" + FOCUS + \"\"\"\n",
    "- Structure preference: \"\"\" + STRUCTURE + \"\"\"\n",
    "\n",
    "give your answer as a json list of dicts with keys `workout, location, time`\"\"\"\n",
    ")\n",
    "\n",
    "sleep_chain = sleep_preference_prompt | llm | StrOutputParser()\n",
    "variety_chain = variety_prompt | llm | StrOutputParser()\n",
    "top3_chain = top3_prompt | llm | JsonOutputParser() \n",
    "\n",
    "chain = (\n",
    "        RunnablePassthrough.assign(sleep_preference_result=sleep_chain) |\n",
    "        RunnablePassthrough.assign(variety_result=variety_chain) |\n",
    "        RunnablePassthrough.assign(top3_result=top3_chain)\n",
    ")\n",
    "# Invoke the chain with all inputs\n",
    "result = chain.invoke({\n",
    "    \"SLEEP\": SLEEP,\n",
    "})\n",
    "result[\"top3_result\"]"
   ],
   "id": "767a6c95bcc0478a",
   "outputs": [
    {
     "name": "stdout",
     "output_type": "stream",
     "text": [
      "I'm trying to decide what workout to do tomorrow. today (Tuesday) I did bootcamp. yesterday (Monday) I did cycling. the day before (Sunday) I did megaformer pilates. my preferences: intense cardio (running & cycling) are better for my ADHD and anxiety symptoms, I prefer fitness classes over solo activities like running or swimming laps because i tend to procrastinate starting the latter, i like to vary my exercises day to day, i prefer to be done with my workout and shower by 9:30am on weekdays, I don't want to wake up too early. options: Yoga @ Sui Yoga · Soho SoHo at 8:00 AM 40 min away, Yoga @ Brooklyn Yoga Project Carroll Gardens at 7:30 AM 40 min away, Cycling @ SoulCycle · Williamsburg at 8:00 AM 50 min away, peloton spin workout @ home at ~8am 0m away, Barre @ The Bar Method · Brooklyn - Williamsburg Williamsburg at 7:00 AM 50 min away, Yoga @ VERAYOGA (Tribeca) Tribeca at 7:50 AM 35 min away, Running @ Mile High Run Club · Noho NoHo at 7:30 AM 40 min away, Gym Time @ RS Strength at 8:30 AM 40 min away, Cycling @ CycleBar · NoHo NoHo at 8:15 AM 40 min away, Running @ Mile High Run Club · Noho NoHo at 8:30 AM 40 min away, Gym Time @ Crunch Gym · FiDi Financial District at 8:00 AM 30 min away, Yoga @ VERAYOGA · Williamsburg at 7:00 AM 50 min away, Yoga @ Bouldering Project at 7:45 AM 30 min away, Gym Time @ Retro Fitness · One New York Plaza Financial District at 8:00 AM 30 min away, Gym Time @ RS Strength at 7:00 AM 40 min away, Gym Time @ Crunch Gym · Union Square Union Square at 7:00 AM 35 min away, Barre @ The Bar Method · Brooklyn - Williamsburg Williamsburg at 8:00 AM 50 min away, run @ home at ~8am 0m away, swim laps @ YMCA at ~8am 20m away, Cycling @ SoulCycle · Financial District at 7:00 AM 30 min away, Cycling @ SoulCycle · Brooklyn Heights at 7:30 AM 20 min away, Yoga @ ID Hot Yoga - Lower East Side Lower East Side at 8:30 AM 40 min away, Yoga @ ID Hot Yoga - Lower East Side Lower East Side at 7:00 AM 40 min away, Cycling @ CycleBar · NoHo NoHo at 7:00 AM 40 min away, Running @ Barry's · Brooklyn Heights Strength Training, at 8:30 AM 22 min away, Cycling @ SoulCycle · Williamsburg at 7:00 AM 50 min away, Yoga @ Sui Yoga · Soho SoHo at 7:00 AM 40 min away, Yoga @ Y7 Studio · Park Slope Manhattan at 8:15 AM 20 min away, Gym Time @ Retro Fitness · One New York Plaza Financial District at 7:00 AM 30 min away, Cycling @ SoulCycle · Brooklyn Heights at 8:30 AM 20 min away, lift weights @ home at ~8am 0m away\n"
     ]
    },
    {
     "data": {
      "text/plain": [
       "[{'workout': \"Running @ Barry's · Brooklyn Heights\",\n",
       "  'location': 'Brooklyn Heights',\n",
       "  'time': '8:30 AM'},\n",
       " {'workout': 'Cycling @ CycleBar · NoHo',\n",
       "  'location': 'NoHo',\n",
       "  'time': '8:15 AM'},\n",
       " {'workout': 'Gym Time @ Crunch Gym · FiDi',\n",
       "  'location': 'Financial District',\n",
       "  'time': '8:00 AM'}]"
      ]
     },
     "execution_count": 4,
     "metadata": {},
     "output_type": "execute_result"
    }
   ],
   "execution_count": 4
  },
  {
   "metadata": {
    "ExecuteTime": {
     "end_time": "2025-04-22T16:36:47.840207Z",
     "start_time": "2025-04-22T16:36:47.542902Z"
    }
   },
   "cell_type": "code",
   "source": [
    "\n",
    "from json_extractor import JsonExtractor\n",
    "import pandas as pd\n",
    "\n",
    "workout_list = result[\"top3_result\"]\n",
    "if workout_list:\n",
    "    print(workout_list)\n",
    "else:\n",
    "    print(result[\"top3_result\"])\n",
    "\n",
    "df = pd.DataFrame(workout_list)\n",
    "\n",
    "df"
   ],
   "id": "a43e30868e4d53f6",
   "outputs": [
    {
     "name": "stdout",
     "output_type": "stream",
     "text": [
      "[{'workout': \"Running @ Barry's · Brooklyn Heights\", 'location': 'Brooklyn Heights', 'time': '8:30 AM'}, {'workout': 'Cycling @ CycleBar · NoHo', 'location': 'NoHo', 'time': '8:15 AM'}, {'workout': 'Gym Time @ Crunch Gym · FiDi', 'location': 'Financial District', 'time': '8:00 AM'}]\n"
     ]
    },
    {
     "data": {
      "text/plain": [
       "                                workout            location     time\n",
       "0  Running @ Barry's · Brooklyn Heights    Brooklyn Heights  8:30 AM\n",
       "1             Cycling @ CycleBar · NoHo                NoHo  8:15 AM\n",
       "2          Gym Time @ Crunch Gym · FiDi  Financial District  8:00 AM"
      ],
      "text/html": [
       "<div>\n",
       "<style scoped>\n",
       "    .dataframe tbody tr th:only-of-type {\n",
       "        vertical-align: middle;\n",
       "    }\n",
       "\n",
       "    .dataframe tbody tr th {\n",
       "        vertical-align: top;\n",
       "    }\n",
       "\n",
       "    .dataframe thead th {\n",
       "        text-align: right;\n",
       "    }\n",
       "</style>\n",
       "<table border=\"1\" class=\"dataframe\">\n",
       "  <thead>\n",
       "    <tr style=\"text-align: right;\">\n",
       "      <th></th>\n",
       "      <th>workout</th>\n",
       "      <th>location</th>\n",
       "      <th>time</th>\n",
       "    </tr>\n",
       "  </thead>\n",
       "  <tbody>\n",
       "    <tr>\n",
       "      <th>0</th>\n",
       "      <td>Running @ Barry's · Brooklyn Heights</td>\n",
       "      <td>Brooklyn Heights</td>\n",
       "      <td>8:30 AM</td>\n",
       "    </tr>\n",
       "    <tr>\n",
       "      <th>1</th>\n",
       "      <td>Cycling @ CycleBar · NoHo</td>\n",
       "      <td>NoHo</td>\n",
       "      <td>8:15 AM</td>\n",
       "    </tr>\n",
       "    <tr>\n",
       "      <th>2</th>\n",
       "      <td>Gym Time @ Crunch Gym · FiDi</td>\n",
       "      <td>Financial District</td>\n",
       "      <td>8:00 AM</td>\n",
       "    </tr>\n",
       "  </tbody>\n",
       "</table>\n",
       "</div>"
      ]
     },
     "execution_count": 5,
     "metadata": {},
     "output_type": "execute_result"
    }
   ],
   "execution_count": 5
  }
 ],
 "metadata": {
  "kernelspec": {
   "display_name": "Python 3",
   "language": "python",
   "name": "python3"
  },
  "language_info": {
   "codemirror_mode": {
    "name": "ipython",
    "version": 2
   },
   "file_extension": ".py",
   "mimetype": "text/x-python",
   "name": "python",
   "nbconvert_exporter": "python",
   "pygments_lexer": "ipython2",
   "version": "2.7.6"
  }
 },
 "nbformat": 4,
 "nbformat_minor": 5
}
